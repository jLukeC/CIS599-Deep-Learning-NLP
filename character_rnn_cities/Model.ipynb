{
 "cells": [
  {
   "cell_type": "code",
   "execution_count": 3,
   "metadata": {},
   "outputs": [],
   "source": [
    "import numpy as np\n",
    "import random\n",
    "import glob\n",
    "import string"
   ]
  },
  {
   "cell_type": "code",
   "execution_count": 4,
   "metadata": {},
   "outputs": [],
   "source": [
    "letter_vocabulary = string.ascii_lowercase + \" '\"\n",
    "\n",
    "def one_hot_ify(s,v):\n",
    "    if s not in v:\n",
    "        print(\"Error Not Found in Vocabulary:\",s)\n",
    "    return np.array([int(s==x) for x in v])\n",
    "\n",
    "def name_to_tensor(line):\n",
    "    return np.array([one_hot_ify(letter, letter_vocabulary) for letter in line])\n",
    "\n",
    "def tensor_to_name(name_tensor):\n",
    "    non_zero_indicies = [np.where(letter_vector)[0][0] for letter_vector in name_tensor]\n",
    "    return \"\".join([letter_vocabulary[i] for i in non_zero_indicies])"
   ]
  },
  {
   "cell_type": "code",
   "execution_count": null,
   "metadata": {},
   "outputs": [],
   "source": []
  }
 ],
 "metadata": {
  "kernelspec": {
   "display_name": "Python 3",
   "language": "python",
   "name": "python3"
  },
  "language_info": {
   "codemirror_mode": {
    "name": "ipython",
    "version": 3
   },
   "file_extension": ".py",
   "mimetype": "text/x-python",
   "name": "python",
   "nbconvert_exporter": "python",
   "pygments_lexer": "ipython3",
   "version": "3.6.3"
  }
 },
 "nbformat": 4,
 "nbformat_minor": 2
}
