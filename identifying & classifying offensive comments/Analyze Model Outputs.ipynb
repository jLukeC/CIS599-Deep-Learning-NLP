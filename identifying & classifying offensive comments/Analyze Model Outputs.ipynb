{
 "cells": [
  {
   "cell_type": "markdown",
   "metadata": {},
   "source": [
    "# Evaluation Script\n",
    "This notebook reads teh test predictions for all models and computes their respective mean ROC AUC values at the end. Originally this script used `glob` to automatically grab files that fit the submission regex then run the evaluation but it seemed a little over engineered."
   ]
  },
  {
   "cell_type": "code",
   "execution_count": 36,
   "metadata": {},
   "outputs": [],
   "source": [
    "import pandas as pd\n",
    "\n",
    "labels = ['toxic', 'severe_toxic', 'obscene', 'threat', 'insult', 'identity_hate']\n",
    "\n",
    "test = pd.read_csv('data/train.csv')\n",
    "test_naive_bayes = pd.read_csv('submissions/test_naive_bayes.csv')\n",
    "test_LSTM = pd.read_csv('submissions/test_basic_LSTM.csv')"
   ]
  },
  {
   "cell_type": "code",
   "execution_count": 37,
   "metadata": {},
   "outputs": [],
   "source": [
    "from sklearn.metrics import roc_auc_score\n",
    "\n",
    "# Evaluation Helper Function\n",
    "\n",
    "def evaluate_submission(s_df):\n",
    "    return roc_auc_score(test[labels], test_submission[labels], average='weighted')"
   ]
  },
  {
   "cell_type": "code",
   "execution_count": 41,
   "metadata": {},
   "outputs": [
    {
     "name": "stdout",
     "output_type": "stream",
     "text": [
      "Naive Bayes 0.819873107526\n",
      "LSTM 0.971692138278\n"
     ]
    }
   ],
   "source": [
    "print('Naive Bayes', roc_auc_score(test[labels], test_naive_bayes[labels], average='weighted'))\n",
    "print('LSTM', roc_auc_score(test[labels], test_LSTM[labels], average='weighted'))"
   ]
  }
 ],
 "metadata": {
  "kernelspec": {
   "display_name": "Python 3",
   "language": "python",
   "name": "python3"
  },
  "language_info": {
   "codemirror_mode": {
    "name": "ipython",
    "version": 3
   },
   "file_extension": ".py",
   "mimetype": "text/x-python",
   "name": "python",
   "nbconvert_exporter": "python",
   "pygments_lexer": "ipython3",
   "version": "3.6.3"
  }
 },
 "nbformat": 4,
 "nbformat_minor": 2
}
