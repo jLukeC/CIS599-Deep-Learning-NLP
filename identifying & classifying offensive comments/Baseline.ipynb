{
 "cells": [
  {
   "cell_type": "code",
   "execution_count": 13,
   "metadata": {},
   "outputs": [
    {
     "name": "stdout",
     "output_type": "stream",
     "text": [
      "toxic 0.9507867971\n",
      "toxic 0.847693415719\n",
      "severe_toxic 0.986827180377\n",
      "severe_toxic 0.768058701191\n",
      "obscene 0.967274755438\n",
      "obscene 0.842600568641\n",
      "threat 0.995688439629\n",
      "threat 0.531669359626\n",
      "insult 0.964830702321\n",
      "insult 0.81811398723\n",
      "identity_hate 0.987974005302\n",
      "identity_hate 0.611947954316\n",
      "{'toxic': 0.95078679709972358, 'severe_toxic': 0.98682718037738681, 'obscene': 0.96727475543801822, 'threat': 0.99568843962875464, 'insult': 0.96483070232059709, 'identity_hate': 0.9879740053017152}\n",
      "{}\n"
     ]
    }
   ],
   "source": [
    "import pandas as pd\n",
    "import numpy as np\n",
    "import re, string\n",
    "from sklearn.feature_extraction.text import TfidfVectorizer\n",
    "from sklearn.feature_extraction.text import CountVectorizer\n",
    "\n",
    "from sklearn.naive_bayes import MultinomialNB\n",
    "\n",
    "from sklearn.metrics import roc_auc_score\n",
    "from sklearn.metrics import accuracy_score\n",
    "\n",
    "\n",
    "train = pd.read_csv('data/train.csv')\n",
    "labels= ['toxic', 'severe_toxic', 'obscene', 'threat', 'insult', 'identity_hate']\n",
    "\n",
    "\n",
    "tfidf_vectorizer = CountVectorizer()\n",
    "train_tfidfs = tfidf_vectorizer.fit_transform(train[\"comment_text\"])\n",
    "\n",
    "\n",
    "label_raw_accuracy_score = {}\n",
    "label_roc_auc_score = {}\n",
    "\n",
    "for label in labels:\n",
    "    X = train_tfidfs\n",
    "    y = train[label]\n",
    "    mnb = MultinomialNB()\n",
    "    y_pred = mnb.fit(X,y).predict(X)\n",
    "\n",
    "    label_raw_accuracy_score[label] = accuracy_score(y,y_pred)\n",
    "    label_roc_auc_score[label] = roc_auc_score(y,y_pred)\n",
    "    \n",
    "    print(label,label_raw_accuracy_score[label])\n",
    "    print(label,label_roc_auc_score[label])\n",
    "\n",
    "print(label_raw_accuracy_score)\n",
    "print(label_roc_auc_score)"
   ]
  },
  {
   "cell_type": "code",
   "execution_count": 16,
   "metadata": {},
   "outputs": [
    {
     "name": "stdout",
     "output_type": "stream",
     "text": [
      "Average Label Accuracy: 0.975563646694\n",
      "Average ROC AUC Accuracy: 0.736680664454\n"
     ]
    }
   ],
   "source": [
    "def mean(l): return sum(l) / len(l)\n",
    "\n",
    "print(\"Average Label Accuracy:\", mean(label_raw_accuracy_score.values()))\n",
    "print(\"Average ROC AUC Accuracy:\", mean(label_roc_auc_score.values()))"
   ]
  },
  {
   "cell_type": "code",
   "execution_count": null,
   "metadata": {},
   "outputs": [],
   "source": []
  }
 ],
 "metadata": {
  "kernelspec": {
   "display_name": "Python 3",
   "language": "python",
   "name": "python3"
  },
  "language_info": {
   "codemirror_mode": {
    "name": "ipython",
    "version": 3
   },
   "file_extension": ".py",
   "mimetype": "text/x-python",
   "name": "python",
   "nbconvert_exporter": "python",
   "pygments_lexer": "ipython3",
   "version": "3.6.3"
  }
 },
 "nbformat": 4,
 "nbformat_minor": 2
}
