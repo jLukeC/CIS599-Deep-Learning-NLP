{
 "cells": [
  {
   "cell_type": "code",
   "execution_count": 19,
   "metadata": {},
   "outputs": [],
   "source": [
    "import pandas as pd, numpy as np\n",
    "from sklearn.linear_model import LogisticRegression\n",
    "from sklearn.feature_extraction.text import CountVectorizer, TfidfVectorizer"
   ]
  },
  {
   "cell_type": "code",
   "execution_count": 21,
   "metadata": {},
   "outputs": [],
   "source": [
    "train = pd.read_csv('data/train.csv')\n",
    "test = pd.read_csv('data/test.csv')"
   ]
  },
  {
   "cell_type": "code",
   "execution_count": 35,
   "metadata": {},
   "outputs": [
    {
     "data": {
      "text/plain": [
       "(31915, 8)"
      ]
     },
     "execution_count": 35,
     "metadata": {},
     "output_type": "execute_result"
    }
   ],
   "source": [
    "label_cols = ['toxic', 'severe_toxic', 'obscene', 'threat', 'insult', 'identity_hate']\n",
    "train['none'] = 1-train[label_cols].max(axis=1)\n",
    "test.shape"
   ]
  },
  {
   "cell_type": "code",
   "execution_count": 25,
   "metadata": {},
   "outputs": [],
   "source": [
    "COMMENT = 'comment_text'\n",
    "train[COMMENT].fillna(\"unknown\", inplace=True)\n",
    "test[COMMENT].fillna(\"unknown\", inplace=True)"
   ]
  },
  {
   "cell_type": "code",
   "execution_count": 36,
   "metadata": {},
   "outputs": [],
   "source": [
    "import re, string\n",
    "re_tok = re.compile(f'([{string.punctuation}“”¨«»®´·º½¾¿¡§£₤‘’])')\n",
    "def tokenize(s): return re_tok.sub(r' \\1 ', s).split()"
   ]
  },
  {
   "cell_type": "code",
   "execution_count": 37,
   "metadata": {},
   "outputs": [],
   "source": [
    "n = train.shape[0]\n",
    "vec = CountVectorizer()\n",
    "trn_term_doc = vec.fit_transform(train[COMMENT])\n",
    "test_term_doc = vec.transform(test[COMMENT])"
   ]
  },
  {
   "cell_type": "code",
   "execution_count": 38,
   "metadata": {},
   "outputs": [
    {
     "data": {
      "text/plain": [
       "(<127656x166430 sparse matrix of type '<class 'numpy.int64'>'\n",
       " \twith 5559667 stored elements in Compressed Sparse Row format>,\n",
       " <31915x166430 sparse matrix of type '<class 'numpy.int64'>'\n",
       " \twith 1365662 stored elements in Compressed Sparse Row format>)"
      ]
     },
     "execution_count": 38,
     "metadata": {},
     "output_type": "execute_result"
    }
   ],
   "source": [
    "trn_term_doc, test_term_doc"
   ]
  },
  {
   "cell_type": "code",
   "execution_count": 39,
   "metadata": {},
   "outputs": [],
   "source": [
    "def pr(y_i, y):\n",
    "    p = x[y==y_i].sum(0)\n",
    "    return (p+1) / ((y==y_i).sum()+1)"
   ]
  },
  {
   "cell_type": "code",
   "execution_count": 40,
   "metadata": {},
   "outputs": [],
   "source": [
    "x = trn_term_doc\n",
    "test_x = test_term_doc"
   ]
  },
  {
   "cell_type": "code",
   "execution_count": 41,
   "metadata": {},
   "outputs": [],
   "source": [
    "def get_mdl(y):\n",
    "    y = y.values\n",
    "    r = np.log(pr(1,y) / pr(0,y))\n",
    "    m = LogisticRegression(C=4, dual=True)\n",
    "    x_nb = x.multiply(r)\n",
    "    return m.fit(x_nb, y), r"
   ]
  },
  {
   "cell_type": "code",
   "execution_count": 46,
   "metadata": {},
   "outputs": [
    {
     "name": "stdout",
     "output_type": "stream",
     "text": [
      "fit toxic\n",
      "fit severe_toxic\n",
      "fit obscene\n",
      "fit threat\n"
     ]
    },
    {
     "name": "stderr",
     "output_type": "stream",
     "text": [
      "/usr/local/Cellar/python3/3.6.3/Frameworks/Python.framework/Versions/3.6/lib/python3.6/site-packages/sklearn/linear_model/base.py:340: RuntimeWarning: overflow encountered in exp\n",
      "  np.exp(prob, prob)\n"
     ]
    },
    {
     "name": "stdout",
     "output_type": "stream",
     "text": [
      "fit insult\n",
      "fit identity_hate\n"
     ]
    }
   ],
   "source": [
    "preds = np.zeros((len(test), len(label_cols)))\n",
    "models = []\n",
    "for i, j in enumerate(label_cols):\n",
    "    print('fit', j)\n",
    "    m,r = get_mdl(train[j])\n",
    "    models.append(m)\n",
    "    preds[:,i] = m.predict_proba(test_x.multiply(r))[:,1]"
   ]
  },
  {
   "cell_type": "code",
   "execution_count": 44,
   "metadata": {},
   "outputs": [],
   "source": [
    "test[label_cols] = preds\n",
    "test.to_csv('submissions/test_nblr_count.csv')"
   ]
  },
  {
   "cell_type": "code",
   "execution_count": 49,
   "metadata": {},
   "outputs": [
    {
     "data": {
      "text/plain": [
       "['00',\n",
       " '000',\n",
       " '0000',\n",
       " '00000',\n",
       " '000000',\n",
       " '0000000',\n",
       " '0000000027',\n",
       " '00000001',\n",
       " '00000003',\n",
       " '00000050']"
      ]
     },
     "execution_count": 49,
     "metadata": {},
     "output_type": "execute_result"
    }
   ],
   "source": [
    "vec.get_feature_names()[:10]"
   ]
  },
  {
   "cell_type": "code",
   "execution_count": 52,
   "metadata": {},
   "outputs": [
    {
     "data": {
      "text/plain": [
       "array([[  3.76333693e-01,   2.59927309e-01,  -3.05758603e-03, ...,\n",
       "         -5.16859312e-15,  -5.16859312e-15,  -5.16859312e-15]])"
      ]
     },
     "execution_count": 52,
     "metadata": {},
     "output_type": "execute_result"
    }
   ],
   "source": [
    "m.coef_"
   ]
  },
  {
   "cell_type": "code",
   "execution_count": 53,
   "metadata": {},
   "outputs": [
    {
     "name": "stdout",
     "output_type": "stream",
     "text": [
      "('00', array([  3.76333693e-01,   2.59927309e-01,  -3.05758603e-03, ...,\n",
      "        -5.16859312e-15,  -5.16859312e-15,  -5.16859312e-15]))\n"
     ]
    }
   ],
   "source": [
    "import operator\n",
    "z = zip(vec.get_feature_names(),m.coef_)\n",
    "print(max(z, key=operator.itemgetter(1)))"
   ]
  },
  {
   "cell_type": "code",
   "execution_count": 54,
   "metadata": {},
   "outputs": [
    {
     "data": {
      "text/plain": [
       "13262"
      ]
     },
     "execution_count": 54,
     "metadata": {},
     "output_type": "execute_result"
    }
   ],
   "source": [
    "np.argmax(m.coef_)"
   ]
  },
  {
   "cell_type": "code",
   "execution_count": 55,
   "metadata": {},
   "outputs": [
    {
     "data": {
      "text/plain": [
       "'am'"
      ]
     },
     "execution_count": 55,
     "metadata": {},
     "output_type": "execute_result"
    }
   ],
   "source": [
    "vec.get_feature_names()[13262]"
   ]
  },
  {
   "cell_type": "code",
   "execution_count": 57,
   "metadata": {},
   "outputs": [],
   "source": [
    "def show_most_informative_features(vectorizer, clf, n=20):\n",
    "    feature_names = vectorizer.get_feature_names()\n",
    "    coefs_with_fns = sorted(zip(clf.coef_[0], feature_names))\n",
    "    top = zip(coefs_with_fns[:n], coefs_with_fns[:-(n + 1):-1])\n",
    "    for (coef_1, fn_1), (coef_2, fn_2) in top:\n",
    "        print(coef_1, fn_1, coef_2, fn_2)"
   ]
  },
  {
   "cell_type": "code",
   "execution_count": 61,
   "metadata": {},
   "outputs": [
    {
     "name": "stdout",
     "output_type": "stream",
     "text": [
      "-------toxic-------\n",
      "-4.81100497862 cool 5.4144244455 ridiculous\n",
      "-4.69301935516 dx927 4.91646980887 adam\n",
      "-4.18750522834 lynched 4.67419596748 frequent\n",
      "-3.77651297659 ashabat 4.34417605697 sockpuppet\n",
      "-3.43786656481 weve 4.17720999885 inapproriate\n",
      "-3.29687980137 estogen 4.00900963812 nonsense\n",
      "-------severe_toxic-------\n",
      "-3.88895691635 californiaalibaba 2.79427777169 is\n",
      "-3.32797956268 queer 2.42731940507 retardeds\n",
      "-3.0000375956 misterwiki 2.41084356349 sexless\n",
      "-2.7382442052 motherfuck 2.40628696009 create\n",
      "-2.68680034606 sasayama 2.40023103133 newcomer\n",
      "-2.52222552783 departed 2.37819913813 mostly\n",
      "-------obscene-------\n",
      "-8.62199752141 eats 4.17412177765 worldwide\n",
      "-6.6181044257 halberg 4.15694617783 participation\n",
      "-5.86517952942 youngamerican 3.96074324882 von\n",
      "-5.64126250564 bradbury 3.23802475873 sex\n",
      "-5.33606739784 vbutt 3.17642358834 xxx\n",
      "-4.53479789813 abysmal 2.99603877707 american\n",
      "-------threat-------\n",
      "-4.95369112375 bleachanhero 2.56629255169 killing\n",
      "-2.39871051721 nigga 2.31429595135 earthquake\n",
      "-1.87644696438 cookie 2.26160042166 sitush\n",
      "-1.80848834651 choke 2.25070313409 hang\n",
      "-1.78070309222 and 2.14051313433 bowel\n",
      "-1.70660195954 suicidal 2.10892491114 hot\n",
      "-------insult-------\n",
      "-9.05668977743 californiaalibaba 5.67922336764 am\n",
      "-5.60377034344 youe 5.10441511817 retardedyour\n",
      "-5.08339937763 trip 4.79977419679 gg\n",
      "-4.71384709769 amadeus 4.73095125676 reversion\n",
      "-4.25333761791 cunthole 4.17651890617 theories\n",
      "-4.14270010615 motherfu 3.9904891757 input\n",
      "-------identity_hate-------\n",
      "-5.27806822689 delanoy 6.4488326332 am\n",
      "-2.14403163047 hiding 5.47745391581 super\n",
      "-1.98429854216 assad 3.7661668841 sexual\n",
      "-1.91711523672 always 2.8862691892 wikipeida\n",
      "-1.87403719475 atheist 2.73415984606 country\n",
      "-1.70739134486 out 2.60874978105 barack\n"
     ]
    }
   ],
   "source": [
    "for i,model in enumerate(models):\n",
    "    print(\"-------\" + label_cols[i] + \"-------\")\n",
    "    show_most_informative_features(vec,model,6)"
   ]
  },
  {
   "cell_type": "code",
   "execution_count": 62,
   "metadata": {},
   "outputs": [],
   "source": [
    "def print_top10(vectorizer, clf, class_labels):\n",
    "    \"\"\"Prints features with the highest coefficient values, per class\"\"\"\n",
    "    feature_names = vectorizer.get_feature_names()\n",
    "    for i, class_label in enumerate(class_labels):\n",
    "        top10 = np.argsort(clf.coef_[i])[-10:]\n",
    "        print(\"%s: %s\" % (class_label,\n",
    "              \" \".join(feature_names[j] for j in top10)))"
   ]
  },
  {
   "cell_type": "code",
   "execution_count": 65,
   "metadata": {},
   "outputs": [
    {
     "name": "stdout",
     "output_type": "stream",
     "text": [
      "-------toxic-------\n",
      "0: 24hrs transferred bluesband swift nonsense inapproriate sockpuppet frequent adam ridiculous\n",
      "-------severe_toxic-------\n",
      "0: garbage bandwidth condescending duded mostly newcomer create sexless retardeds is\n",
      "-------obscene-------\n",
      "0: muthafuckaa tawker wouldn infinitely american xxx sex von participation worldwide\n",
      "-------threat-------\n",
      "0: trying cut 6ft shoulder hot bowel hang sitush earthquake killing\n",
      "-------insult-------\n",
      "0: title82 sloppy edjohnston protestant input theories reversion gg retardedyour am\n",
      "-------identity_hate-------\n",
      "0: shanghai communist israeli filled barack country wikipeida sexual super am\n"
     ]
    }
   ],
   "source": [
    "for i,model in enumerate(models):\n",
    "    print(\"-------\" + label_cols[i] + \"-------\")\n",
    "    print_top10(vec,model,[0])"
   ]
  },
  {
   "cell_type": "code",
   "execution_count": null,
   "metadata": {},
   "outputs": [],
   "source": []
  }
 ],
 "metadata": {
  "kernelspec": {
   "display_name": "Python 3",
   "language": "python",
   "name": "python3"
  },
  "language_info": {
   "codemirror_mode": {
    "name": "ipython",
    "version": 3
   },
   "file_extension": ".py",
   "mimetype": "text/x-python",
   "name": "python",
   "nbconvert_exporter": "python",
   "pygments_lexer": "ipython3",
   "version": "3.6.3"
  }
 },
 "nbformat": 4,
 "nbformat_minor": 2
}
