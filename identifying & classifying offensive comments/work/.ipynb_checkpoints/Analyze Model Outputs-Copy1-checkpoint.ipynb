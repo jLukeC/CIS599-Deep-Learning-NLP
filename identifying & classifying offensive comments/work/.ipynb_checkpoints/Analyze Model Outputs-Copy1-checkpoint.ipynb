{
 "cells": [
  {
   "cell_type": "code",
   "execution_count": 36,
   "metadata": {},
   "outputs": [],
   "source": [
    "import pandas as pd\n",
    "\n",
    "labels = ['toxic', 'severe_toxic', 'obscene', 'threat', 'insult', 'identity_hate']\n",
    "\n",
    "test = pd.read_csv('data/train.csv')\n",
    "test_naive_bayes = pd.read_csv('submissions/test_naive_bayes.csv')\n",
    "test_LSTM = pd.read_csv('submissions/test_basic_LSTM.csv')"
   ]
  },
  {
   "cell_type": "code",
   "execution_count": 37,
   "metadata": {},
   "outputs": [],
   "source": [
    "from sklearn.metrics import roc_auc_score\n",
    "\n",
    "def evaluate_submission(s_df):\n",
    "    return roc_auc_score(test[labels], test_submission[labels], average='weighted')"
   ]
  },
  {
   "cell_type": "code",
   "execution_count": 40,
   "metadata": {},
   "outputs": [
    {
     "name": "stdout",
     "output_type": "stream",
     "text": [
      "0.819873107526\n",
      "0.971692138278\n",
      "0.971692138278\n"
     ]
    }
   ],
   "source": [
    "print('Naive Bayes', roc_auc_score(test[labels], test_naive_bayes[labels], average='weighted'))\n",
    "print('LSTM', roc_auc_score(test[labels], test_LSTM[labels], average='weighted'))"
   ]
  },
  {
   "cell_type": "code",
   "execution_count": null,
   "metadata": {},
   "outputs": [],
   "source": []
  },
  {
   "cell_type": "code",
   "execution_count": 33,
   "metadata": {},
   "outputs": [
    {
     "name": "stdout",
     "output_type": "stream",
     "text": [
      "basic_LSTM 0.819873107526\n",
      "naive_bayes 0.819873107526\n"
     ]
    }
   ],
   "source": [
    "import glob\n",
    "import re\n",
    "\n",
    "def extract_model_name(f):\n",
    "    model_name_regex = re.search(r'submissions\\/test_(?P<model_name>.*)\\.csv', f)\n",
    "    return model_name_regex.group('model_name')\n",
    "\n",
    "for filename in glob.glob('submissions/test_*.csv'):\n",
    "    # a little bit of regex to get the model name from the file\n",
    "    model_name = extract_model_name(filename)\n",
    "    \n",
    "    model_test_prediction = pd.read_csv(filename)\n",
    "    score = evaluate_submission(model_test_prediction)\n",
    "    print(model_name, score)\n",
    "    "
   ]
  },
  {
   "cell_type": "code",
   "execution_count": 29,
   "metadata": {},
   "outputs": [],
   "source": [
    "test_submission = pd.read_csv('submissions/test_naive_bayes.csv')"
   ]
  },
  {
   "cell_type": "code",
   "execution_count": 30,
   "metadata": {},
   "outputs": [
    {
     "data": {
      "text/plain": [
       "0.81987310752598519"
      ]
     },
     "execution_count": 30,
     "metadata": {},
     "output_type": "execute_result"
    }
   ],
   "source": [
    "\n",
    "# Key point: in this case I use a weighted average for the ROC AUC to handle label imbalance\n",
    "roc_auc_score(test[labels], test_submission[labels], average='weighted')"
   ]
  },
  {
   "cell_type": "code",
   "execution_count": 39,
   "metadata": {},
   "outputs": [
    {
     "data": {
      "text/plain": [
       "0.97169213827841916"
      ]
     },
     "execution_count": 39,
     "metadata": {},
     "output_type": "execute_result"
    }
   ],
   "source": [
    "test_submission = pd.read_csv('submissions/test_basic_LSTM.csv')\n",
    "roc_auc_score(test[labels], test_submission[labels], average='weighted')"
   ]
  }
 ],
 "metadata": {
  "kernelspec": {
   "display_name": "Python 3",
   "language": "python",
   "name": "python3"
  },
  "language_info": {
   "codemirror_mode": {
    "name": "ipython",
    "version": 3
   },
   "file_extension": ".py",
   "mimetype": "text/x-python",
   "name": "python",
   "nbconvert_exporter": "python",
   "pygments_lexer": "ipython3",
   "version": "3.6.3"
  }
 },
 "nbformat": 4,
 "nbformat_minor": 2
}
