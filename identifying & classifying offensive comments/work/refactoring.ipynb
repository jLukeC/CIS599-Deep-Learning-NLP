{
 "cells": [
  {
   "cell_type": "code",
   "execution_count": null,
   "metadata": {},
   "outputs": [],
   "source": [
    "import pandas as pd\n",
    "import numpy as np\n",
    "import re, string\n",
    "from sklearn.linear_model import LogisticRegression\n",
    "from sklearn.feature_extraction.text import TfidfVectorizer\n",
    "from sklearn.feature_extraction.text import CountVectorizer\n",
    "\n",
    "from sklearn.naive_bayes import MultinomialNB\n",
    "\n",
    "from sklearn.metrics import roc_auc_score\n",
    "from sklearn.metrics import accuracy_score\n",
    "\n",
    "\n",
    "train = pd.read_csv('data/train.csv')\n",
    "test = pd.read_csv('data/train.csv')\n",
    "\n",
    "labels = ['toxic', 'severe_toxic', 'obscene', 'threat', 'insult', 'identity_hate']\n",
    "\n",
    "\n",
    "vectorizer = CountVectorizer()\n",
    "train_vectorized = vectorizer.fit_transform(train[\"comment_text\"])\n",
    "test_vectorized = vectorizer.transform(test[\"comment_text\"])\n",
    "\n",
    "\n",
    "\n",
    "def train_NB(X_train,y_train):\n",
    "    mnb = MultinomialNB()\n",
    "    mnb.fit(X_train,y_train)\n",
    "    return mnb\n",
    "\n",
    "labeled_models = [(label,train_NB(train_vectorized,train[label])) for label in labels]\n",
    "\n",
    "def predict_submission(X,submission)\n",
    "    for (label,model) in labeled_models:\n",
    "        y_pred = model.predict(X)\n",
    "        submission[label] = y_pred\n",
    "\n",
    "predict_submission(train_vectorized,train)\n",
    "predict_submission(test_vectorized,test)\n",
    "\n",
    "\n",
    "print(\"Training Total ROC AUC Avg:\",roc_auc_score(train_submission[labels],train[labels]))\n",
    "\n",
    "train_submission.to_csv(\"submissions/train_naive_bayes.csv\")\n",
    "test_submission.to_csv(\"submissions/test_naive_bayes.csv\")\n"
   ]
  }
 ],
 "metadata": {
  "kernelspec": {
   "display_name": "Python 3",
   "language": "python",
   "name": "python3"
  },
  "language_info": {
   "codemirror_mode": {
    "name": "ipython",
    "version": 3
   },
   "file_extension": ".py",
   "mimetype": "text/x-python",
   "name": "python",
   "nbconvert_exporter": "python",
   "pygments_lexer": "ipython3",
   "version": "3.6.3"
  }
 },
 "nbformat": 4,
 "nbformat_minor": 2
}
