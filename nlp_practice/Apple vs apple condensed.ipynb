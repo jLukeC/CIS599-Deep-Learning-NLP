{
 "cells": [
  {
   "cell_type": "code",
   "execution_count": 1,
   "metadata": {},
   "outputs": [
    {
     "name": "stdout",
     "output_type": "stream",
     "text": [
      "0.976973684211\n",
      "0.981818181818\n"
     ]
    }
   ],
   "source": [
    "apple_computers = [l for l in open(\"data/apple-computers.txt\").readlines()]\n",
    "apple_fruit = [l for l in open(\"data/apple-fruit.txt\").readlines()]\n",
    "\n",
    "\n",
    "import pandas as pd\n",
    "computer_df = pd.DataFrame(columns = [\"text\",\"label\"])\n",
    "computer_df[\"text\"] = apple_computers\n",
    "computer_df[\"label\"] = 1\n",
    "\n",
    "fruit_df = pd.DataFrame(columns = [\"text\",\"label\"])\n",
    "fruit_df[\"text\"] = apple_fruit\n",
    "fruit_df[\"label\"] = 0\n",
    "\n",
    "\n",
    "full_df = pd.concat([computer_df, fruit_df])\n",
    "full_df[\"text\"] = full_df[\"text\"].str.strip()\n",
    "full_df = full_df.drop(full_df[full_df.text.str.len() < 15].index)\n",
    "\n",
    "\n",
    "from sklearn.feature_extraction.text import TfidfVectorizer\n",
    "\n",
    "vec = TfidfVectorizer()\n",
    "X_counts = vec.fit_transform(full_df[\"text\"])\n",
    "\n",
    "from sklearn.naive_bayes import MultinomialNB\n",
    "clf = MultinomialNB()\n",
    "clf.fit(X_counts, full_df[\"label\"])\n",
    "\n",
    "y_hat = clf.predict(X_counts)\n",
    "\n",
    "\n",
    "from sklearn.metrics import f1_score\n",
    "from sklearn.metrics import accuracy_score\n",
    "\n",
    "print(accuracy_score(y_hat, full_df[\"label\"]))\n",
    "print(f1_score(y_hat, full_df[\"label\"]))"
   ]
  },
  {
   "cell_type": "code",
   "execution_count": null,
   "metadata": {},
   "outputs": [],
   "source": []
  }
 ],
 "metadata": {
  "kernelspec": {
   "display_name": "Python 3",
   "language": "python",
   "name": "python3"
  },
  "language_info": {
   "codemirror_mode": {
    "name": "ipython",
    "version": 3
   },
   "file_extension": ".py",
   "mimetype": "text/x-python",
   "name": "python",
   "nbconvert_exporter": "python",
   "pygments_lexer": "ipython3",
   "version": "3.6.3"
  }
 },
 "nbformat": 4,
 "nbformat_minor": 2
}
