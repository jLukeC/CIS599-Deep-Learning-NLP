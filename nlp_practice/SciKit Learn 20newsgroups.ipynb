{
 "cells": [
  {
   "cell_type": "code",
   "execution_count": 1,
   "metadata": {},
   "outputs": [],
   "source": [
    "from sklearn.datasets import fetch_20newsgroups"
   ]
  },
  {
   "cell_type": "code",
   "execution_count": 2,
   "metadata": {},
   "outputs": [
    {
     "name": "stderr",
     "output_type": "stream",
     "text": [
      "Downloading 20news dataset. This may take a few minutes.\n",
      "Downloading dataset from https://ndownloader.figshare.com/files/5975967 (14 MB)\n"
     ]
    }
   ],
   "source": [
    "categories = ['alt.atheism', 'soc.religion.christian',\n",
    "              'comp.graphics', 'sci.med']\n",
    "train = fetch_20newsgroups(subset='train', categories = categories, \n",
    "                           shuffle=True, random_state=42)"
   ]
  },
  {
   "cell_type": "code",
   "execution_count": 3,
   "metadata": {},
   "outputs": [
    {
     "name": "stdout",
     "output_type": "stream",
     "text": [
      "dict_keys(['data', 'filenames', 'target_names', 'target', 'DESCR', 'description'])\n"
     ]
    }
   ],
   "source": [
    "print(train.keys())"
   ]
  },
  {
   "cell_type": "code",
   "execution_count": 4,
   "metadata": {},
   "outputs": [
    {
     "data": {
      "text/plain": [
       "['alt.atheism', 'comp.graphics', 'sci.med', 'soc.religion.christian']"
      ]
     },
     "execution_count": 4,
     "metadata": {},
     "output_type": "execute_result"
    }
   ],
   "source": [
    "train.target_names"
   ]
  },
  {
   "cell_type": "code",
   "execution_count": 5,
   "metadata": {},
   "outputs": [
    {
     "data": {
      "text/plain": [
       "2257"
      ]
     },
     "execution_count": 5,
     "metadata": {},
     "output_type": "execute_result"
    }
   ],
   "source": [
    "len(train.data)"
   ]
  },
  {
   "cell_type": "code",
   "execution_count": 15,
   "metadata": {},
   "outputs": [
    {
     "name": "stdout",
     "output_type": "stream",
     "text": [
      "From: qpliu@phoenix.Princeton.EDU (q.p.liu)\n",
      "Subject: Re: free moral agency\n",
      "Originator: news@nimaster\n",
      "Nntp-Posting-Host: phoenix.princeton.edu\n",
      "Reply-To: qpliu@princeton.edu\n",
      "Organization: Princeton University\n",
      "Lines: 26\n",
      "\n",
      "In article <kmr4.1575.734879106@po.CWRU.edu> kmr4@po.CWRU.edu (Keith M. Ryan) writes:\n",
      ">In article <1993Apr15.000406.10984@Princeton.EDU> qpliu@phoenix.Princeton.EDU (q.p.liu) writes:\n",
      ">\n",
      ">>>So while Faith itself is a Gift, obedience is what makes Faith possible.\n",
      ">>What makes obeying different from believing?\n",
      "\n",
      ">\tI am still wondering how it is that I am to be obedient, when I have \n",
      ">no idea to whom I am to be obedient!\n",
      "\n",
      "It is all written in _The_Wholly_Babble:_the_Users_Guide_to_Invisible_\n",
      "_Pink_Unicorns_.\n",
      "\n",
      "To be granted faith in invisible pink unicorns, you must read the Babble,\n",
      "and obey what is written in it.\n",
      "\n",
      "To obey what is written in the Babble, you must believe that doing so is\n",
      "the way to be granted faith in invisible pink unicorns.\n",
      "\n",
      "To believe that obeying what is written in the Babble leads to believing\n",
      "in invisible pink unicorns, you must, essentially, believe in invisible\n",
      "pink unicorns.\n",
      "\n",
      "This bit of circular reasoning begs the question:\n",
      "What makes obeying different from believing?\n",
      "-- \n",
      "qpliu@princeton.edu           Standard opinion: Opinions are delta-correlated.\n",
      "\n"
     ]
    }
   ],
   "source": [
    "print(train.data[500])"
   ]
  },
  {
   "cell_type": "code",
   "execution_count": 10,
   "metadata": {},
   "outputs": [
    {
     "data": {
      "text/plain": [
       "array([1, 1, 3, 3, 3])"
      ]
     },
     "execution_count": 10,
     "metadata": {},
     "output_type": "execute_result"
    }
   ],
   "source": [
    "train.target[:5] # the labels"
   ]
  },
  {
   "cell_type": "code",
   "execution_count": 11,
   "metadata": {},
   "outputs": [],
   "source": [
    "train_labels = train.target"
   ]
  },
  {
   "cell_type": "code",
   "execution_count": 12,
   "metadata": {},
   "outputs": [],
   "source": [
    "def category_number_to_text(i):\n",
    "    return train.target_names[i]"
   ]
  },
  {
   "cell_type": "code",
   "execution_count": 14,
   "metadata": {},
   "outputs": [
    {
     "name": "stdout",
     "output_type": "stream",
     "text": [
      "comp.graphics\n",
      "comp.graphics\n",
      "soc.religion.christian\n",
      "soc.religion.christian\n",
      "soc.religion.christian\n"
     ]
    }
   ],
   "source": [
    "print(\"\\n\".join([category_number_to_text(i) for i in train.target[:5]]))"
   ]
  },
  {
   "cell_type": "code",
   "execution_count": 17,
   "metadata": {},
   "outputs": [
    {
     "data": {
      "text/plain": [
       "(2257, 35788)"
      ]
     },
     "execution_count": 17,
     "metadata": {},
     "output_type": "execute_result"
    }
   ],
   "source": [
    "from sklearn.feature_extraction.text import CountVectorizer\n",
    "cv = CountVectorizer()\n",
    "\n",
    "train_counts = cv.fit_transform(train.data)\n",
    "train_counts.shape # (number of instances, length of vocabulary)"
   ]
  },
  {
   "cell_type": "code",
   "execution_count": 19,
   "metadata": {},
   "outputs": [
    {
     "data": {
      "text/plain": [
       "(2257, 35788)"
      ]
     },
     "execution_count": 19,
     "metadata": {},
     "output_type": "execute_result"
    }
   ],
   "source": [
    "from sklearn.feature_extraction.text import TfidfVectorizer\n",
    "tf = TfidfVectorizer()\n",
    "\n",
    "train_tfidf = tf.fit_transform(train.data)\n",
    "train_tfidf.shape"
   ]
  },
  {
   "cell_type": "code",
   "execution_count": 24,
   "metadata": {},
   "outputs": [
    {
     "name": "stdout",
     "output_type": "stream",
     "text": [
      "0.963668586619\n"
     ]
    }
   ],
   "source": [
    "from sklearn.naive_bayes import MultinomialNB\n",
    "import numpy as np\n",
    "mnb = MultinomialNB().fit(train_tfidf,train_labels)\n",
    "predictions = mnb.predict(train_tfidf)\n",
    "\n",
    "print(np.mean(predictions == train_labels))"
   ]
  },
  {
   "cell_type": "code",
   "execution_count": null,
   "metadata": {},
   "outputs": [],
   "source": []
  }
 ],
 "metadata": {
  "kernelspec": {
   "display_name": "Python 3",
   "language": "python",
   "name": "python3"
  },
  "language_info": {
   "codemirror_mode": {
    "name": "ipython",
    "version": 3
   },
   "file_extension": ".py",
   "mimetype": "text/x-python",
   "name": "python",
   "nbconvert_exporter": "python",
   "pygments_lexer": "ipython3",
   "version": "3.6.3"
  }
 },
 "nbformat": 4,
 "nbformat_minor": 2
}
