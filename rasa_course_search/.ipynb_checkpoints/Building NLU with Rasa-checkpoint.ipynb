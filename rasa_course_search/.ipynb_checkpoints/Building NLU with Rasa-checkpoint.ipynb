{
 "cells": [
  {
   "cell_type": "markdown",
   "metadata": {},
   "source": [
    "# Building A Toy Chatbot with Rasa\n",
    "\n",
    "\n",
    "Rasa is an open source toolkit for building conversational agents. Using it you can parse user input into structured data and build an underlying dialogue engine to handle complex scenarios."
   ]
  },
  {
   "cell_type": "markdown",
   "metadata": {},
   "source": [
    "\n",
    "In this instance we care about being able to parse unstructed user input like:\n",
    "\n",
    "    \"I am looking for a list of computer science classes taught after 3pm\"\n",
    "\n",
    "\n",
    "Into a structured output that extracts the user's intent along with relevant entities.\n",
    "\n",
    "```json\n",
    "{\n",
    "  \"intent\": \"course_search\",\n",
    "  \"entities\": {\n",
    "    \"course_type\" : \"CIS521\",\n",
    "    \"course_time\" : \"after 3pm\"\n",
    "  }\n",
    "}\n",
    "```"
   ]
  },
  {
   "cell_type": "markdown",
   "metadata": {},
   "source": [
    "![rasa_overview](tutorial_content/rasa-ecosystem.png)"
   ]
  },
  {
   "cell_type": "markdown",
   "metadata": {},
   "source": [
    "## Creating Training Data\n",
    "\n",
    "Usually for a task like this we would want tens of thousands of labeled conversations. In this case we'll have to make do with the 30 odd lines of labeled text I annotated using [rasa-nlu-trainer](https://rasahq.github.io/rasa-nlu-trainer/).\n",
    "\n",
    "![title](tutorial_content/rasa-nlu-trainer.png)\n"
   ]
  },
  {
   "cell_type": "markdown",
   "metadata": {},
   "source": [
    "## Take a look at the training data\n",
    "\n",
    "The training data exists in a file called `course_search.json`. We can extract the first 30 lines to get an idea of how the labeled data looks."
   ]
  },
  {
   "cell_type": "code",
   "execution_count": 1,
   "metadata": {},
   "outputs": [
    {
     "name": "stdout",
     "output_type": "stream",
     "text": [
      "﻿{\r\n",
      "  \"rasa_nlu_data\": {\r\n",
      "    \"common_examples\": [\r\n",
      "      {\r\n",
      "        \"text\": \"I'm looking for a math class\",\r\n",
      "        \"intent\": \"course_search\",\r\n",
      "        \"entities\": [\r\n",
      "          {\r\n",
      "            \"start\": 18,\r\n",
      "            \"end\": 22,\r\n",
      "            \"value\": \"math\",\r\n",
      "            \"entity\": \"course_type\"\r\n",
      "          }\r\n",
      "        ]\r\n",
      "      },\r\n",
      "      {\r\n",
      "        \"text\": \"show me computer science classes\",\r\n",
      "        \"intent\": \"course_search\",\r\n",
      "        \"entities\": [\r\n",
      "          {\r\n",
      "            \"start\": 8,\r\n",
      "            \"end\": 24,\r\n",
      "            \"value\": \"computer science\",\r\n",
      "            \"entity\": \"course_type\"\r\n",
      "          }\r\n",
      "        ]\r\n",
      "      },\r\n",
      "      {\r\n",
      "        \"text\": \"what english classes are there at 2pm\",\r\n",
      "        \"intent\": \"course_search\",\r\n"
     ]
    }
   ],
   "source": [
    "! head -30 course_search_data.json"
   ]
  },
  {
   "cell_type": "markdown",
   "metadata": {},
   "source": [
    "# Train NLU Model\n",
    "\n",
    "Rasa models allow for a flexible build pipeline. In this case, we are using spaCy to do most of our heavy lifting.\n",
    "\n",
    "- spacy language model\n",
    "- spacy intent classification ()\n",
    "- spacy entity extraction (Conditional Random Field)\n",
    "\n",
    "\n",
    "Now that we have our annotated intent and entity data, we can train a basic model."
   ]
  },
  {
   "cell_type": "code",
   "execution_count": 6,
   "metadata": {},
   "outputs": [
    {
     "name": "stdout",
     "output_type": "stream",
     "text": [
      "Fitting 2 folds for each of 6 candidates, totalling 12 fits\n"
     ]
    },
    {
     "name": "stderr",
     "output_type": "stream",
     "text": [
      "[Parallel(n_jobs=1)]: Done  12 out of  12 | elapsed:    0.0s finished\n"
     ]
    }
   ],
   "source": [
    "from rasa_nlu.training_data import load_data\n",
    "from rasa_nlu.config import RasaNLUModelConfig\n",
    "from rasa_nlu.model import Trainer\n",
    "from rasa_nlu import config\n",
    "\n",
    "training_data = load_data('course_search_data.json')\n",
    "trainer = Trainer(config.load(\"config_spacy.json\"))\n",
    "trainer.train(training_data)\n",
    "model_directory = trainer.persist('models/default/')  # Returns the directory the model is stored in"
   ]
  },
  {
   "cell_type": "markdown",
   "metadata": {},
   "source": [
    "# Load Interpreter"
   ]
  },
  {
   "cell_type": "code",
   "execution_count": 7,
   "metadata": {},
   "outputs": [
    {
     "name": "stderr",
     "output_type": "stream",
     "text": [
      "/usr/local/Cellar/python3/3.6.3/Frameworks/Python.framework/Versions/3.6/lib/python3.6/site-packages/rasa_nlu/extractors/entity_synonyms.py:85: UserWarning: Failed to load synonyms file from '/Users/lukecarlson/Dropbox/Programming/Education/CIS599_Independent_Study/rasa_course_search/models/default/default/model_20180419-233640/entity_synonyms.json'\n",
      "  \"\".format(entity_synonyms_file))\n"
     ]
    }
   ],
   "source": [
    "from rasa_nlu.model import Metadata, Interpreter\n",
    "\n",
    "# where `model_directory points to the folder the model is persisted in\n",
    "interpreter = Interpreter.load(model_directory)"
   ]
  },
  {
   "cell_type": "markdown",
   "metadata": {},
   "source": [
    "# Predict"
   ]
  },
  {
   "cell_type": "code",
   "execution_count": 8,
   "metadata": {},
   "outputs": [
    {
     "data": {
      "text/plain": [
       "{'entities': [{'confidence': 0.8809640292915137,\n",
       "   'end': 18,\n",
       "   'entity': 'course_code',\n",
       "   'extractor': 'ner_crf',\n",
       "   'start': 12,\n",
       "   'value': 'cis121'}],\n",
       " 'intent': {'confidence': 0.98982289136495005, 'name': 'course_detail'},\n",
       " 'intent_ranking': [{'confidence': 0.98982289136495005,\n",
       "   'name': 'course_detail'},\n",
       "  {'confidence': 0.010177108635050057, 'name': 'course_search'}],\n",
       " 'text': 'who teaches CIS121?'}"
      ]
     },
     "execution_count": 8,
     "metadata": {},
     "output_type": "execute_result"
    }
   ],
   "source": [
    "interpreter.parse(u\"who teaches CIS121?\")"
   ]
  },
  {
   "cell_type": "markdown",
   "metadata": {},
   "source": [
    "# Further Directions\n",
    "\n",
    "## Spinning up an HTTP Server for your Bot\n",
    "\n",
    "Rasa makes it quite easy to run your bot on a server, just run the command:\n",
    "\n",
    "`python -m rasa_nlu.server --path models`\n",
    "\n",
    "From there you can test your bot by pinging the endpoint, by using `curl` for example:\n",
    "\n",
    "`curl -XPOST localhost:5000/parse -d '{\"q\":\"hello there\"}'`\n",
    "\n",
    "## "
   ]
  },
  {
   "cell_type": "markdown",
   "metadata": {},
   "source": [
    "# Evaluation\n",
    "\n",
    "We can evaluate the quality of our model by runnning it against labeled conversation data. In this case the evaluation script is testing intent classification:\n",
    "\n",
    "`python -m rasa_nlu.evaluate --data course_search_data.json --model models/default/model_20180418-132857 --config config_spacy.json`\n",
    "\n",
    "The output of this script gives us the following scores:\n",
    "\n",
    "```\n",
    "               precision    recall  f1-score   support\n",
    "\n",
    "course_detail       1.00      1.00      1.00         7\n",
    "course_search       1.00      1.00      1.00         9\n",
    "\n",
    "  avg / total       1.00      1.00      1.00        16\n",
    "  \n",
    "```\n",
    "\n",
    "Looks like we've got a perfect model! More likely our scores were so high because the training data is sparse and the two intents are dissimilar. Try adding more intents, entities or check out Rasa Core to build a dialogue engine on top of our NLU model."
   ]
  },
  {
   "cell_type": "code",
   "execution_count": null,
   "metadata": {},
   "outputs": [],
   "source": []
  }
 ],
 "metadata": {
  "kernelspec": {
   "display_name": "Python 3",
   "language": "python",
   "name": "python3"
  },
  "language_info": {
   "codemirror_mode": {
    "name": "ipython",
    "version": 3
   },
   "file_extension": ".py",
   "mimetype": "text/x-python",
   "name": "python",
   "nbconvert_exporter": "python",
   "pygments_lexer": "ipython3",
   "version": "3.6.3"
  }
 },
 "nbformat": 4,
 "nbformat_minor": 2
}
